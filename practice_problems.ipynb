{
  "nbformat": 4,
  "nbformat_minor": 0,
  "metadata": {
    "colab": {
      "name": "practice_problems.ipynb",
      "provenance": [],
      "authorship_tag": "ABX9TyOqumABHHc7DpnMwp93wwKw",
      "include_colab_link": true
    },
    "kernelspec": {
      "name": "python3",
      "display_name": "Python 3"
    }
  },
  "cells": [
    {
      "cell_type": "markdown",
      "metadata": {
        "id": "view-in-github",
        "colab_type": "text"
      },
      "source": [
        "<a href=\"https://colab.research.google.com/github/elizabethts/practice-problems/blob/master/practice_problems.ipynb\" target=\"_parent\"><img src=\"https://colab.research.google.com/assets/colab-badge.svg\" alt=\"Open In Colab\"/></a>"
      ]
    },
    {
      "cell_type": "markdown",
      "metadata": {
        "id": "29I_98CwRdVZ",
        "colab_type": "text"
      },
      "source": [
        "# Probability"
      ]
    },
    {
      "cell_type": "markdown",
      "metadata": {
        "id": "gpCX-0oz6LFf",
        "colab_type": "text"
      },
      "source": [
        "Consider a class of 20 students. What is the probability that no two students share the same Birth Date? (Assume that a year has only 365 days and that each birth is independent of the other). Round the answer to the two decimal places. As an exercise, try to do this when there are n students, where n is an integer greater than 1. Draw a graph of probability as n increases.\n"
      ]
    },
    {
      "cell_type": "code",
      "metadata": {
        "id": "KwVwZLYS6Oxr",
        "colab_type": "code",
        "outputId": "91b87ff2-88ba-46c0-de0c-597470731450",
        "colab": {
          "base_uri": "https://localhost:8080/",
          "height": 71
        }
      },
      "source": [
        "# one student (p=1), for 2 students (p = 364/365)\n",
        "# 1 * 364/365^n\n",
        "\n",
        "# get a list of possible n \n",
        "n = list(range(1,11))\n",
        "print(n)\n",
        "\n",
        "prob_list = []\n",
        "for i in n:\n",
        "\n",
        "  prob = 365/365\n",
        "\n",
        "  increment = 1/365\n",
        "  prob = prob * (1 - increment*i)\n",
        "  prob_list.append(prob)\n",
        "\n",
        "print(prob_list)"
      ],
      "execution_count": 1,
      "outputs": [
        {
          "output_type": "stream",
          "text": [
            "[1, 2, 3, 4, 5, 6, 7, 8, 9, 10]\n",
            "[0.9972602739726028, 0.9945205479452055, 0.9917808219178083, 0.989041095890411, 0.9863013698630136, 0.9835616438356164, 0.9808219178082191, 0.9780821917808219, 0.9753424657534246, 0.9726027397260274]\n"
          ],
          "name": "stdout"
        }
      ]
    },
    {
      "cell_type": "code",
      "metadata": {
        "id": "Zg8PIKGK7JgE",
        "colab_type": "code",
        "colab": {}
      },
      "source": [
        ""
      ],
      "execution_count": 0,
      "outputs": []
    }
  ]
}